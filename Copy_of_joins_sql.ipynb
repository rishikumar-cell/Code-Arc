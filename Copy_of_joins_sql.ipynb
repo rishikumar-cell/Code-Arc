{
  "nbformat": 4,
  "nbformat_minor": 0,
  "metadata": {
    "colab": {
      "provenance": [],
      "authorship_tag": "ABX9TyMyFH8/TAEINMKppZLlOM8d",
      "include_colab_link": true
    },
    "kernelspec": {
      "name": "python3",
      "display_name": "Python 3"
    },
    "language_info": {
      "name": "python"
    }
  },
  "cells": [
    {
      "cell_type": "markdown",
      "metadata": {
        "id": "view-in-github",
        "colab_type": "text"
      },
      "source": [
        "<a href=\"https://colab.research.google.com/github/rishikumar-cell/Code-Arc/blob/main/Copy_of_joins_sql.ipynb\" target=\"_parent\"><img src=\"https://colab.research.google.com/assets/colab-badge.svg\" alt=\"Open In Colab\"/></a>"
      ]
    },
    {
      "cell_type": "code",
      "execution_count": null,
      "metadata": {
        "id": "1JADXwfM45Yr"
      },
      "outputs": [],
      "source": [
        "select e.name,d.department\n",
        "from employees e\n",
        "join department d on d.department_id = e.department_id;"
      ]
    },
    {
      "cell_type": "code",
      "source": [
        "select e.name,d.department\n",
        "from employees e\n",
        "left join department d on d.department_id = e.department_id;"
      ],
      "metadata": {
        "id": "DuMCnxwZ48ev"
      },
      "execution_count": null,
      "outputs": []
    },
    {
      "cell_type": "code",
      "source": [
        "select e.name,d.department\n",
        "from employees e\n",
        "right join department d on d.department_id = e.department_id;"
      ],
      "metadata": {
        "id": "yEfKzQhr6C1A"
      },
      "execution_count": null,
      "outputs": []
    },
    {
      "cell_type": "code",
      "source": [
        "select e.name,d.name\n",
        "from employees e\n",
        "left join departments d on d.dept_id = e.dept_id\n",
        "inner join manager m on m.manager_id = e.manager_id\n",
        "left jon projects p on p.tema_member_id = e.team_member_id;\n"
      ],
      "metadata": {
        "id": "o3343nDX61JH"
      },
      "execution_count": null,
      "outputs": []
    }
  ]
}